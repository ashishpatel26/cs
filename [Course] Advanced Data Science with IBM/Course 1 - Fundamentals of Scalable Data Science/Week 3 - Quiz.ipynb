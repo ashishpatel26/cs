{
 "cells": [
  {
   "cell_type": "markdown",
   "metadata": {},
   "source": [
    "## Week 3 - Quiz: Averages and standard deviation"
   ]
  },
  {
   "cell_type": "markdown",
   "metadata": {},
   "source": [
    "<br/>**1.**\n",
    "\n",
    "What is the advantage of median over mean?\n",
    " \n",
    "**Median is more outlier resistent. Odd values influence median less than mean.**"
   ]
  },
  {
   "cell_type": "markdown",
   "metadata": {},
   "source": [
    "<br/>**2.**\n",
    "\n",
    "What is the mean of the following list?\n",
    "\n",
    "1,2,4,5,34,1,32,4,34,2,1,3\n",
    "\n",
    "Please use a decimal point instead of a comma\n",
    " \n",
    "**10.25**"
   ]
  },
  {
   "cell_type": "markdown",
   "metadata": {},
   "source": [
    "<br/>**3.**\n",
    "\n",
    "What is the median of the following list?\n",
    "\n",
    "1,2,4,5,34,1,32,4,34,2,1,3\n",
    "\n",
    "Please use a decimal point instead of a comma\n",
    " \n",
    "**3.5**"
   ]
  },
  {
   "cell_type": "markdown",
   "metadata": {},
   "source": [
    "<br/>**4.**\n",
    "\n",
    "Which of the following two plots has a higher standard deviation?\n",
    "\n",
    "![picture alt](https://d3c33hcgiwev3.cloudfront.net/imageAssetProxy.v1/GkuDc7mZEeajLxLfjQiSjg_48a92a93faed6f95fc963187a3cd3921_Screen-Shot-2016-12-03-at-21.42.48.png?expiry=1541462400000&hmac=yLEf2wMw0ctPqq5ytY_3ifRILZKkoqEixMN8ierL4eo)\n",
    "\n",
    "Plot 1\n",
    "\n",
    "![picture alt](https://d3c33hcgiwev3.cloudfront.net/imageAssetProxy.v1/oKX35sCvEea3qApInhZCFg_b6137dc0bbb7a2a3ee40637e61db10a2_Screen-Shot-2016-12-12-at-22.11.10.png?expiry=1541462400000&hmac=u8Zaf9FIC9_Ri3Mtse2dRXsM5POJR-so8rgicazdJvY)\n",
    "\n",
    "Plot 2\n",
    "\n",
    " \n",
    "**Plot 2**"
   ]
  },
  {
   "cell_type": "markdown",
   "metadata": {},
   "source": [
    "<br/>**5.**\n",
    "\n",
    "What is the standard deviation of the following list?\n",
    "\n",
    "34,1,23,4,3,3,12,4,3,1\n",
    "\n",
    "Please enter at least 3 digits after the decimal\n",
    "\n",
    "Please use a decimal point instead of a comma\n",
    " \n",
    "**10.562**"
   ]
  },
  {
   "cell_type": "markdown",
   "metadata": {},
   "source": [
    "## Week 3 - Quiz: Skewness and kurtosis"
   ]
  },
  {
   "cell_type": "markdown",
   "metadata": {},
   "source": [
    "<br/>**1.**\n",
    "\n",
    "![picture alt](https://d3c33hcgiwev3.cloudfront.net/imageAssetProxy.v1/tbFo27mfEea7TQ6MHcgMPA_43d44d21e3f63c1f0db1523642abf97c_Screen-Shot-2016-12-03-at-22.30.14.png?expiry=1541462400000&hmac=-yBzudl0LLnu03UH0Vdl1xIMOcpaqSgtQsJbs_JmXVQ)\n",
    "\n",
    "Plot 1\n",
    "\n",
    "![picture alt](https://d3c33hcgiwev3.cloudfront.net/imageAssetProxy.v1/0xyv_LmfEea4MxKdJPaTxA_cb60339cfbfe8d472af0a1fb62774705_Screen-Shot-2016-12-03-at-22.31.01.png?expiry=1541462400000&hmac=SAJfoK8TftHJRPqFRf8h5HsvVmxB2moSPsSgp8HC0LU)\n",
    "\n",
    "Plot 2\n",
    "\n",
    "Which of the two plots indicates a higher kurtosis value?\n",
    " \n",
    "**Plot 1**"
   ]
  },
  {
   "cell_type": "markdown",
   "metadata": {},
   "source": [
    "<br/>**2.**\n",
    "\n",
    "What is the kurtosis of the following list?\n",
    "\n",
    "34,1,23,4,3,3,12,4,3,1\n",
    "\n",
    "Please enter at least three digits after the decimal\n",
    " \n",
    "**0.663**"
   ]
  },
  {
   "cell_type": "markdown",
   "metadata": {},
   "source": [
    "<br/>**3.**\n",
    "\n",
    "The higher the kurtosis value, the longer the \"tails\" of the distributions are. So, kurtosis measures the outlier content. The higher the kurtosis value, the more outliers are in the dataset because the more far a values is away from the mean, the more it contributes to the kurtosis. In other words, the distribution has long tails. Which are examples of long tailed datasets?\n",
    " \n",
    "**Velocity values recorded from all connected cars over one year in a country**\n",
    "\n",
    "**Latitude coordinates of all rain drops fallen on earth for the last 60 minutes**\n",
    "\n",
    "**Number of minutes a lift in a smart building was waiting at each floor over the last 24h**"
   ]
  },
  {
   "cell_type": "markdown",
   "metadata": {},
   "source": [
    "<br/>**4.**\n",
    "\n",
    "![picture alt](https://d3c33hcgiwev3.cloudfront.net/imageAssetProxy.v1/h86b9LmcEea4MxKdJPaTxA_75829f7ed49aa2e506f185f618f6adef_Screen-Shot-2016-12-03-at-22.07.04.png?expiry=1541462400000&hmac=Pl5hwkG-73fv-ie8da2NTrC6OYzOlXulfnveBBjJpio)\n",
    "\n",
    "What is true about this value distribution?\n",
    " \n",
    "**This distribution is positively skewed**"
   ]
  },
  {
   "cell_type": "markdown",
   "metadata": {},
   "source": [
    "<br/>**5.**\n",
    "\n",
    "Consider a connected car. We are measuring the car's velocity 600 times per minute. Note that in time intervals the car stands the velocity of zero is measured. If we now plot the distribution of velocity values, is this distribution positively or negatively skewed?\n",
    " \n",
    "**positively skewed**"
   ]
  },
  {
   "cell_type": "markdown",
   "metadata": {},
   "source": [
    "## Week 3 - Quiz: Covariance, correlation and multidimensional Vector Spaces"
   ]
  },
  {
   "cell_type": "markdown",
   "metadata": {},
   "source": [
    "<br/>**1.**\n",
    "\n",
    "What is to coordinate of this data point in vector notation?\n",
    "\n",
    "![picture alt](https://d3c33hcgiwev3.cloudfront.net/imageAssetProxy.v1/iNEziLnwEea3JA7nkdCMQg_f14f19d2ca12899ad3cb9af9675699b6_Rplot.png?expiry=1541462400000&hmac=NTYbq73vMBTy0LQkZuwL8YLeKem0f6Z0o5PFmj_ewnU)\n",
    " \n",
    "**(2,3)**"
   ]
  },
  {
   "cell_type": "markdown",
   "metadata": {},
   "source": [
    "<br/>**2.**\n",
    "\n",
    "What is to coordinate of this data point in vector notation?\n",
    "\n",
    "Note: The point is in the center of the cube, only the coordinate system changed. An X,Y,Z coordinate in vector notation looks like this: (X,Y,Z)\n",
    "\n",
    "![picture alt](https://d3c33hcgiwev3.cloudfront.net/imageAssetProxy.v1/y_Ne8bnxEeawbAp5ByfpEg_1d047a1b140cada72271ba2ad2d750ba_Rplot01.png?expiry=1541462400000&hmac=sNEHIijPVQiTQcs8TM5waVRTCBCnV3SRkn16YHpud1A)\n",
    " \n",
    "**(1,2,3)**"
   ]
  },
  {
   "cell_type": "markdown",
   "metadata": {},
   "source": [
    "<br/>**3.**\n",
    "\n",
    "Consider the following plot with two data points and a plane separating those points. This is a process which is called binary classification which will be covered in the next course.\n",
    "\n",
    "![picture alt](https://d3c33hcgiwev3.cloudfront.net/imageAssetProxy.v1/zq-T9roDEeaKxxJm7j2RrA_b2e3b0144a5eb17b3d6b17a0d42386f6_Rplot02.png?expiry=1541462400000&hmac=eMfD2xYwC-68PkMtFcOHzHXXv944dFfqNjg53ewgimQ)\n",
    "\n",
    "Which of the following vectors are lying on the plane of separation and are therefore hard to classify?\n",
    "\n",
    "Remember: We are using vector notation of (X,Y,Z)\n",
    " \n",
    "**(1,2,1.5)**\n",
    "\n",
    "**(1.5,1.5,1.5)**\n",
    "\n",
    "**(2.5,1.5,1.5)**"
   ]
  },
  {
   "cell_type": "markdown",
   "metadata": {},
   "source": [
    "<br/>**4.**\n",
    "\n",
    "Given the following plot you can clearly see that there are two clusters.\n",
    "\n",
    "![picture alt](https://d3c33hcgiwev3.cloudfront.net/imageAssetProxy.v1/B22-6LoOEea4MxKdJPaTxA_19dfc31b375454ea8c3507ec550e5776_Rplot01.png?expiry=1541462400000&hmac=p8q3BTceoNVSQaoMW13-t7zlTCO1hVAHfnl-tfXcugE)\n",
    "\n",
    "Please select the correct answers regarding properties about these data\n",
    "\n",
    "Remember: We are using vector notation of (X,Y,Z)\n",
    " \n",
    "**There is one cluster centroid at (2,2,2)**\n",
    "\n",
    "**Data point (1.5,1.5,1.5) lies within a cluster**\n",
    "\n",
    "**There is one cluster centroid at (1,1,1)**\n",
    "\n",
    "**Data point (2.1,1.9,2.2) lies within a cluster**"
   ]
  },
  {
   "cell_type": "markdown",
   "metadata": {},
   "source": [
    "<br/>**5.**\n",
    "\n",
    "What is the correlation between the two lists?\n",
    "\n",
    "1,2,3,4,5,6,7,8,9,10\n",
    "\n",
    "7,6,5,4,5,6,7,8,9,10\n",
    "\n",
    "Please enter at least three digits after the decimal\n",
    " \n",
    "**0.709**"
   ]
  },
  {
   "cell_type": "markdown",
   "metadata": {},
   "source": [
    "<br/>**6.**\n",
    "\n",
    "What is the covariance between the two lists?\n",
    "\n",
    "1,2,3,4,5,6,7,8,9,10\n",
    "\n",
    "7,6,5,4,5,6,7,8,9,10\n",
    "\n",
    "Please enter at least three digits after the decimal\n",
    " \n",
    "**3.65**"
   ]
  },
  {
   "cell_type": "markdown",
   "metadata": {},
   "source": [
    "<br/>**7.**\n",
    "\n",
    "The correlation between the following two lists is zero, can you explain why?\n",
    "\n",
    "1,2,3,4,5,6,7\n",
    "\n",
    "7,6,5,4,5,6,7\n",
    " \n",
    "**Correlation of 1st half of the list is negative and between the last half of the list is positive so they cancel out**"
   ]
  },
  {
   "cell_type": "markdown",
   "metadata": {},
   "source": [
    "<br/>**8.**\n",
    "\n",
    "Please select all data with potentially high correlation\n",
    " \n",
    "**Crop fitness + Amount of water available**\n",
    "\n",
    "**Outside temperature + Power consumption of AC**\n",
    "\n",
    "**Season of Year+Amount of Rain**"
   ]
  }
 ],
 "metadata": {
  "kernelspec": {
   "display_name": "Python 3",
   "language": "python",
   "name": "python3"
  },
  "language_info": {
   "codemirror_mode": {
    "name": "ipython",
    "version": 3
   },
   "file_extension": ".py",
   "mimetype": "text/x-python",
   "name": "python",
   "nbconvert_exporter": "python",
   "pygments_lexer": "ipython3",
   "version": "3.6.5"
  }
 },
 "nbformat": 4,
 "nbformat_minor": 2
}
