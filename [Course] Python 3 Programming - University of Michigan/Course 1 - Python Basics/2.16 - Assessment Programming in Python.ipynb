{
 "cells": [
  {
   "cell_type": "markdown",
   "metadata": {},
   "source": [
    "## Course 1 Assessment 2"
   ]
  },
  {
   "cell_type": "markdown",
   "metadata": {},
   "source": [
    "## Due: 2018-11-25 01:14:00\n",
    "\n",
    "Description: Assessment for Programming in Python lesson.\n",
    "\n",
    "Score: 3.0 of 3"
   ]
  },
  {
   "cell_type": "markdown",
   "metadata": {},
   "source": [
    "## Questions"
   ]
  },
  {
   "cell_type": "markdown",
   "metadata": {},
   "source": [
    "There is a function we are providing in for you in this problem called `square`. It takes one integer and returns the square of that integer value. Write code to assign a variable called `xyz` the value `5*5` (five squared). Use the square function, rather than just multiplying with `*`."
   ]
  },
  {
   "cell_type": "code",
   "execution_count": null,
   "metadata": {},
   "outputs": [],
   "source": [
    "xyz = square(5)"
   ]
  },
  {
   "cell_type": "markdown",
   "metadata": {},
   "source": [
    "Write code to assign the number of characters in the string `rv` to a variable `num_chars`."
   ]
  },
  {
   "cell_type": "code",
   "execution_count": 3,
   "metadata": {},
   "outputs": [],
   "source": [
    "rv = \"\"\"Once upon a midnight dreary, while I pondered, weak and weary,\n",
    "    Over many a quaint and curious volume of forgotten lore,\n",
    "    While I nodded, nearly napping, suddenly there came a tapping,\n",
    "    As of some one gently rapping, rapping at my chamber door.\n",
    "    'Tis some visitor, I muttered, tapping at my chamber door;\n",
    "    Only this and nothing more.\"\"\"\n",
    "\n",
    "# Write your code here!\n",
    "num_chars = len(rv)"
   ]
  },
  {
   "cell_type": "markdown",
   "metadata": {},
   "source": [
    "**data-19-1:** The code below initializes two variables, `z` and `y`. We want assign the total number of characters in `z` and in `y` to the variable `a`. Which of the following solutions, if any, would be considered hard coding?"
   ]
  },
  {
   "cell_type": "code",
   "execution_count": 4,
   "metadata": {},
   "outputs": [],
   "source": [
    "z = \"hello world\"\n",
    "y = \"welcome!\""
   ]
  },
  {
   "cell_type": "markdown",
   "metadata": {},
   "source": [
    "**A.** a = len(\"hello worldwelcome!\")\n",
    "\n",
    "**B.** a = 11 + 8\n",
    "\n",
    "**D.** a = len(\"hello world\") + len(\"welcome!\")"
   ]
  },
  {
   "cell_type": "markdown",
   "metadata": {},
   "source": [
    "✔️\n",
    "\n",
    "A. Though we are using the len function here, we are hardcoding what len should return the length of. We are not referencing z or y.\n",
    "\n",
    "B. This is hardcoding, we are writing in the value without referencing z or y.\n",
    "\n",
    "D. Though we are using the len function here, we are hardcoding what len should return the length of each time we call len. We are not referencing z or y."
   ]
  }
 ],
 "metadata": {
  "kernelspec": {
   "display_name": "Python 3",
   "language": "python",
   "name": "python3"
  },
  "language_info": {
   "codemirror_mode": {
    "name": "ipython",
    "version": 3
   },
   "file_extension": ".py",
   "mimetype": "text/x-python",
   "name": "python",
   "nbconvert_exporter": "python",
   "pygments_lexer": "ipython3",
   "version": "3.6.6"
  }
 },
 "nbformat": 4,
 "nbformat_minor": 2
}
