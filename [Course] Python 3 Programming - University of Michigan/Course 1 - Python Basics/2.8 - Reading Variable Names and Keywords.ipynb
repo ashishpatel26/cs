{
 "cells": [
  {
   "cell_type": "markdown",
   "metadata": {},
   "source": [
    "## 2.8. Variable Names and Keywords"
   ]
  },
  {
   "cell_type": "markdown",
   "metadata": {},
   "source": [
    "**Variable names** can be arbitrarily long. They can contain both letters and digits, but they have to begin with a letter or an underscore. Although it is legal to use uppercase letters, by convention we don’t. If you do, remember that case matters. `Bruce` and `bruce` are different variables.\n",
    "\n",
    "**Caution**\n",
    "\n",
    "Variable names can never contain spaces.\n",
    "\n",
    "The underscore character (`_`) can also appear in a name. It is often used in names with multiple words, such as `my_name` or `price_of_tea_in_china`. There are some situations in which names beginning with an underscore have special meaning, so a safe rule for beginners is to start all names with a letter.\n",
    "\n",
    "If you give a variable an illegal name, you get a syntax error. In the example below, each of the variable names is illegal."
   ]
  },
  {
   "cell_type": "code",
   "execution_count": 56,
   "metadata": {},
   "outputs": [
    {
     "ename": "SyntaxError",
     "evalue": "invalid syntax (<ipython-input-56-738a78e2a131>, line 1)",
     "output_type": "error",
     "traceback": [
      "\u001b[0;36m  File \u001b[0;32m\"<ipython-input-56-738a78e2a131>\"\u001b[0;36m, line \u001b[0;32m1\u001b[0m\n\u001b[0;31m    76trombones = \"big parade\"\u001b[0m\n\u001b[0m              ^\u001b[0m\n\u001b[0;31mSyntaxError\u001b[0m\u001b[0;31m:\u001b[0m invalid syntax\n"
     ]
    }
   ],
   "source": [
    "76trombones = \"big parade\"\n",
    "more$ = 1000000\n",
    "class = \"Computer Science 101\""
   ]
  },
  {
   "cell_type": "markdown",
   "metadata": {},
   "source": [
    "`76trombones` is illegal because it does not begin with a letter. `more$` is illegal because it contains an illegal character, the dollar sign. But what’s wrong with `class`?\n",
    "\n",
    "It turns out that `class` is one of the Python **keywords**. Keywords define the language’s syntax rules and structure, and they cannot be used as variable names. Python has thirty-something keywords (and every now and again improvements to Python introduce or eliminate one or two):\n",
    "\n",
    "| .       \t| .     \t| .      \t| .        \t| .      \t| .        \t|\n",
    "|---------\t|-------\t|--------\t|----------\t|--------\t|----------\t|\n",
    "| and     \t| as    \t| assert \t| break    \t| class  \t| continue \t|\n",
    "| def     \t| del   \t| elif   \t| else     \t| except \t| exec     \t|\n",
    "| finally \t| for   \t| from   \t| global   \t| if     \t| import   \t|\n",
    "| in      \t| is    \t| lambda \t| nonlocal \t| not    \t| or       \t|\n",
    "| pass    \t| raise \t| return \t| try      \t| while  \t| with     \t|\n",
    "| yield   \t| True  \t| False  \t| None     \t|        \t|          \t|\n",
    "\n",
    "You might want to keep this list handy. If the interpreter complains about one of your variable names and you don’t know why, see if it is on this list."
   ]
  },
  {
   "cell_type": "markdown",
   "metadata": {},
   "source": [
    "**Check your understanding**"
   ]
  },
  {
   "cell_type": "markdown",
   "metadata": {},
   "source": [
    "**data-8-1:** True or False: the following is a legal variable name in Python: A_good_grade_is_A+\n",
    "\n",
    "**B.** False\n",
    "\n",
    "✔️ - The + character is not allowed in variable names (everything else in this name is fine)."
   ]
  }
 ],
 "metadata": {
  "kernelspec": {
   "display_name": "Python 3",
   "language": "python",
   "name": "python3"
  },
  "language_info": {
   "codemirror_mode": {
    "name": "ipython",
    "version": 3
   },
   "file_extension": ".py",
   "mimetype": "text/x-python",
   "name": "python",
   "nbconvert_exporter": "python",
   "pygments_lexer": "ipython3",
   "version": "3.6.6"
  }
 },
 "nbformat": 4,
 "nbformat_minor": 2
}
