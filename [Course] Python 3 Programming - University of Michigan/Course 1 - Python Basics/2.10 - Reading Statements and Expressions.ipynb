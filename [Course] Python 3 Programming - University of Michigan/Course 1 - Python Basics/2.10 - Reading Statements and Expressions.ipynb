{
 "cells": [
  {
   "cell_type": "markdown",
   "metadata": {},
   "source": [
    "## 2.10. Statements and Expressions"
   ]
  },
  {
   "cell_type": "markdown",
   "metadata": {},
   "source": [
    "A **statement** is an instruction that the Python interpreter can execute. You have only seen the assignment statement so far. Some other kinds of statementsthat you’ll see in future chapters are `while` statements, `for` statements, `if` statements, and `import` statements. (There are other kinds too!)\n",
    "\n",
    "An **expression** is a combination of literals, variable names, operators, and calls to functions. Expressions need to be evaluated. The result of evaluating an expression is a value or object.\n",
    "\n",
    "![picture alt](https://fopp.umsi.education/runestone/static/fopp/_images/expression_value_type.png)\n",
    "\n",
    "If you ask Python to `print` an expression, the interpreter **evaluates** the expression and displays the result."
   ]
  },
  {
   "cell_type": "code",
   "execution_count": 72,
   "metadata": {},
   "outputs": [
    {
     "name": "stdout",
     "output_type": "stream",
     "text": [
      "8\n",
      "5\n"
     ]
    }
   ],
   "source": [
    "print(1 + 1 + (2 * 3))\n",
    "print(len(\"hello\"))"
   ]
  },
  {
   "cell_type": "markdown",
   "metadata": {},
   "source": [
    "In this example `len` is a built-in Python function that returns the number of characters in a string.\n",
    "\n",
    "The _evaluation of an expression_ produces a value, which is why expressions can appear on the right hand side of assignment statements. A literal all by itself is a simple expression, and so is a variable."
   ]
  },
  {
   "cell_type": "code",
   "execution_count": 73,
   "metadata": {},
   "outputs": [
    {
     "name": "stdout",
     "output_type": "stream",
     "text": [
      "5\n",
      "3.14\n"
     ]
    }
   ],
   "source": [
    "y = 3.14\n",
    "x = len(\"hello\")\n",
    "print(x)\n",
    "print(y)"
   ]
  },
  {
   "cell_type": "markdown",
   "metadata": {},
   "source": [
    "In a program, anywhere that a literal value (a string or a number) is acceptable, a more complicated expression is also acceptable. Here are all the kinds of expressions we’ve seen so far:\n",
    "\n",
    "**literal**\n",
    "\n",
    "e.g., “Hello” or 3.14\n",
    "\n",
    "**variable name**\n",
    "\n",
    "e.g., x or len\n",
    "\n",
    "**operator expression**\n",
    "\n",
    "<expression> operator-name <expression>\n",
    "    \n",
    "**function call expressions**\n",
    "    \n",
    "<expression>(<expressions separated by commas>)\n",
    "    \n",
    "Notice that operator expressions (like `+` and `*`) have sub-expressions before and after the operator. Each of these can themselves be simple or complex expressions. In that way, you can build up to having pretty complicated expressions."
   ]
  },
  {
   "cell_type": "code",
   "execution_count": 74,
   "metadata": {},
   "outputs": [
    {
     "name": "stdout",
     "output_type": "stream",
     "text": [
      "17\n"
     ]
    }
   ],
   "source": [
    "print(2 * len(\"hello\") + len(\"goodbye\"))"
   ]
  },
  {
   "cell_type": "markdown",
   "metadata": {},
   "source": [
    "Similarly, when calling a function, instead of putting a literal inside the parentheses, a complex expression can be placed inside the parentheses. (Again, we provide some hidden code that defines the functions `square` and `sub`)."
   ]
  },
  {
   "cell_type": "code",
   "execution_count": 75,
   "metadata": {},
   "outputs": [],
   "source": [
    "def square(x):\n",
    "   return x * x\n",
    "\n",
    "def sub(x, y):\n",
    "   return x - y"
   ]
  },
  {
   "cell_type": "code",
   "execution_count": 76,
   "metadata": {},
   "outputs": [
    {
     "name": "stdout",
     "output_type": "stream",
     "text": [
      "16\n",
      "25\n",
      "-3\n"
     ]
    }
   ],
   "source": [
    "x = 2\n",
    "y = 1\n",
    "print(square(y + 3))\n",
    "print(square(y + square(x)))\n",
    "print(sub(square(y), square(x)))"
   ]
  },
  {
   "cell_type": "markdown",
   "metadata": {},
   "source": [
    "With a function call, it’s even possible to have a complex expression before the left parenthesis, as long as that expression evaluates to a function object. For now, though, we will just use variable names (like square, sub, and len) that are directly bound to function objects.\n",
    "\n",
    "It is important to start learning to read code that contains complex expressions. The Python interpreter examines any line of code and _parses_ it into components. For example, if it sees an `=` symbol, it will try to treat the whole line as an assignment statement. It will expect to see a valid variable name to the left of the =, and will parse everything to the right of the = as an expression. It will try to figure out whether the right side is a literal, a variable name, an operator expression, or a function call expression. If it’s an operator expression, it will further try to parse the sub-expressions before and after the operator. And so on. You should learn to parse lines of code in the same way.\n",
    "\n",
    "In order to evaluate an operator expression, the Python interpreter first completely evaluates the expression before the operator, then the one after, then combines the two resulting values using the operator. In order to evaluate a function call expression, the interpreter evaluates the expression before the parentheses (i.e., it looks up the name of the function). Then it tries to evaluate each of the expressions inside the parentheses. There may be more than one, separated by commas. The values of those expressions are passed as inputs to the function when the function is called.\n",
    "\n",
    "If a function call expression is a sub-expression of some more complicated expression, as `square(x)` is in `sub(square(y), square(x))`, then the return value from `square(x)` is passed as an input to the `sub` function. This is one of the tricky things that you will have to get used to working out when you read (or write) code. In this example, the `square` function is called (twice) before the `sub` function is called, even though the `sub` function comes first when reading the code from left to right."
   ]
  },
  {
   "cell_type": "code",
   "execution_count": null,
   "metadata": {},
   "outputs": [],
   "source": [
    "x = 5\n",
    "y = 7\n",
    "add(square(y), square(x))"
   ]
  },
  {
   "cell_type": "markdown",
   "metadata": {},
   "source": [
    "add(square(y), square(x))\n",
    "\n",
    "add(square(y), square(x))\n",
    "\n",
    "add(square(y), square(x))\n",
    "\n",
    "add(square(7), square(x))\n",
    "\n",
    "add(49, square(x))\n",
    "\n",
    "add(49, square(x))\n",
    "\n",
    "add(49, square(5))\n",
    "\n",
    "add(49, 25)\n",
    "\n",
    "74\n",
    "\n",
    "To start giving you some practice in reading and understanding complicated expressions, try doing the Parsons problem below. Be careful not to indent any of the lines of code; that’s something that will come later in the course."
   ]
  },
  {
   "cell_type": "markdown",
   "metadata": {},
   "source": [
    "data-10-1: Please order the code fragments in the order in which the Python interpreter would evaluate them. x is 2 and y is 3. Now the interpreter is executing `square(x + sub(square(y), 2 *x))`.\n",
    "\n",
    "![picture alt](https://i.ibb.co/4FrjBJt/Ads-z.jpg)"
   ]
  }
 ],
 "metadata": {
  "kernelspec": {
   "display_name": "Python 3",
   "language": "python",
   "name": "python3"
  },
  "language_info": {
   "codemirror_mode": {
    "name": "ipython",
    "version": 3
   },
   "file_extension": ".py",
   "mimetype": "text/x-python",
   "name": "python",
   "nbconvert_exporter": "python",
   "pygments_lexer": "ipython3",
   "version": "3.6.6"
  }
 },
 "nbformat": 4,
 "nbformat_minor": 2
}
