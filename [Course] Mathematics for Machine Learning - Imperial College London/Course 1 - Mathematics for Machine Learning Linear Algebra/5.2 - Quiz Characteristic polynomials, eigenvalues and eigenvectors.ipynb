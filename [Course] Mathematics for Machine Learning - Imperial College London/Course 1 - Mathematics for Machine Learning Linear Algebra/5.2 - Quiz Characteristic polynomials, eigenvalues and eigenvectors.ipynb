{
 "cells": [
  {
   "cell_type": "markdown",
   "metadata": {},
   "source": [
    "## Week 5 - Quiz: Characteristic polynomials, eigenvalues and eigenvectors"
   ]
  },
  {
   "cell_type": "markdown",
   "metadata": {},
   "source": [
    "<br/>**1.**\n",
    "Given a matrix \n",
    "$\\begin{bmatrix}\n",
    "a & b \\\\\n",
    "c & d \\\\\n",
    "\\end{bmatrix}$, recall that one can calculate its eigenvalues by solving the characteristic polynomial $λ^2−(a+d)λ+(ad−bc)=0$. In this quiz, you will practice calculating and solving the characteristic polynomial to find the eigenvalues of simple matrices.\n",
    "\n",
    "\n",
    "For the matrix \n",
    "$A=\n",
    "\\begin{bmatrix}\n",
    "1 & 0 \\\\\n",
    "0 & 2 \\\\\n",
    "\\end{bmatrix}$, what is the characteristic polynomial, and the solutions to the characteristic polynomial? \n",
    " \n",
    "**$λ^2−3λ+2=0$**\n",
    "\n",
    "**$\\lambda_1 = 1, \\lambda_2 = 2$**"
   ]
  },
  {
   "cell_type": "markdown",
   "metadata": {},
   "source": [
    "<br/>**2.**\n",
    "Recall that for a matrix $A$, the eigenvectors of the matrix are vectors for which applying the matrix transformation is the same as scaling by some constant.\n",
    "\n",
    "For $A =\n",
    "\\begin{bmatrix}\n",
    "1 & 0 \\\\\n",
    "0 & 2 \\\\\n",
    "\\end{bmatrix}$ as immediately above, select all eigenvectors of this matrix.\n",
    "\n",
    "**$\\begin{bmatrix}\n",
    "1 \\\\\n",
    "0 \\\\\n",
    "\\end{bmatrix}$**\n",
    "\n",
    "**$\\begin{bmatrix}\n",
    "0 \\\\\n",
    "3 \\\\\n",
    "\\end{bmatrix}$**\n",
    "\n",
    "**$\\begin{bmatrix}\n",
    "0 \\\\\n",
    "2 \\\\\n",
    "\\end{bmatrix}$**"
   ]
  },
  {
   "cell_type": "markdown",
   "metadata": {},
   "source": [
    "<br/>**3.**\n",
    "For the matrix \n",
    "$A=\n",
    "\\begin{bmatrix}\n",
    "3 & 4 \\\\\n",
    "0 & 5 \\\\\n",
    "\\end{bmatrix}$, what is the characteristic polynomial, and the solutions to the characteristic polynomial?\n",
    "\n",
    "\n",
    "**$λ^2−8λ+15=0$**\n",
    "\n",
    "**$\\lambda_1 = 3, \\lambda_2 = 5$**"
   ]
  },
  {
   "cell_type": "markdown",
   "metadata": {},
   "source": [
    "<br/>**4.**\n",
    "For the matrix \n",
    "$A=\n",
    "\\begin{bmatrix}\n",
    "3 & 4 \\\\\n",
    "0 & 5 \\\\\n",
    "\\end{bmatrix}$ as immediately above, select all eigenvectors of this matrix.\n",
    "\n",
    "**$\\begin{bmatrix}\n",
    "3 \\\\\n",
    "0 \\\\\n",
    "\\end{bmatrix}$**\n",
    "\n",
    "**$\\begin{bmatrix}\n",
    "2 \\\\\n",
    "1 \\\\\n",
    "\\end{bmatrix}$**\n",
    "\n",
    "**$\\begin{bmatrix}\n",
    "-1 \\\\\n",
    "-1/2 \\\\\n",
    "\\end{bmatrix}$**"
   ]
  },
  {
   "cell_type": "markdown",
   "metadata": {},
   "source": [
    "<br/>**5.**\n",
    "For the matrix \n",
    "$A=\n",
    "\\begin{bmatrix}\n",
    "1 & 0 \\\\\n",
    "-1 & 4 \\\\\n",
    "\\end{bmatrix}$, what is the characteristic polynomial, and the solutions to the characteristic polynomial?\n",
    "\n",
    "\n",
    "**$λ^2−5λ+4=0$**\n",
    "\n",
    "**$\\lambda_1 = 1, \\lambda_2 = 4$**"
   ]
  },
  {
   "cell_type": "markdown",
   "metadata": {},
   "source": [
    "<br/>**6.**\n",
    "For the matrix \n",
    "$A=\n",
    "\\begin{bmatrix}\n",
    "3 & 4 \\\\\n",
    "0 & 5 \\\\\n",
    "\\end{bmatrix}$ as immediately above, select all eigenvectors of this matrix.\n",
    "\n",
    "**$\\begin{bmatrix}\n",
    "3 \\\\\n",
    "1 \\\\\n",
    "\\end{bmatrix}$**\n",
    "\n",
    "**$\\begin{bmatrix}\n",
    "0 \\\\\n",
    "1 \\\\\n",
    "\\end{bmatrix}$**"
   ]
  },
  {
   "cell_type": "markdown",
   "metadata": {},
   "source": [
    "<br/>**7.**\n",
    "For the matrix \n",
    "$A=\n",
    "\\begin{bmatrix}\n",
    "-3 & 8 \\\\\n",
    "2 & 3 \\\\\n",
    "\\end{bmatrix}$, what is the characteristic polynomial, and the solutions to the characteristic polynomial?\n",
    "\n",
    "\n",
    "**$λ^2−25=0$**\n",
    "\n",
    "**$\\lambda_1 = -5, \\lambda_2 = 5$**"
   ]
  },
  {
   "cell_type": "markdown",
   "metadata": {},
   "source": [
    "<br/>**8.**\n",
    "For the matrix \n",
    "$A=\n",
    "\\begin{bmatrix}\n",
    "-3 & 8 \\\\\n",
    "2 & 3 \\\\\n",
    "\\end{bmatrix}$ as immediately above, select all eigenvectors of this matrix.\n",
    "\n",
    "**$\\begin{bmatrix}\n",
    "4 \\\\\n",
    "-1 \\\\\n",
    "\\end{bmatrix}$**\n",
    "\n",
    "**$\\begin{bmatrix}\n",
    "1 \\\\\n",
    "1 \\\\\n",
    "\\end{bmatrix}$**\n",
    "\n",
    "**$\\begin{bmatrix}\n",
    "-1 \\\\\n",
    "-1 \\\\\n",
    "\\end{bmatrix}$**"
   ]
  },
  {
   "cell_type": "markdown",
   "metadata": {},
   "source": [
    "<br/>**9.**\n",
    "For the matrix \n",
    "$A=\n",
    "\\begin{bmatrix}\n",
    "5 & 4 \\\\\n",
    "-4 & 3 \\\\\n",
    "\\end{bmatrix}$, what is the characteristic polynomial, and the solutions to the characteristic polynomial?\n",
    "\n",
    "\n",
    "**$λ^2−2λ+1=0$**\n",
    "\n",
    "**$λ_1=λ_2=1$**"
   ]
  },
  {
   "cell_type": "markdown",
   "metadata": {},
   "source": [
    "<br/>**10.**\n",
    "For the matrix \n",
    "$A=\n",
    "\\begin{bmatrix}\n",
    "-2 & -3 \\\\\n",
    "1 & 1 \\\\\n",
    "\\end{bmatrix}$, what is the characteristic polynomial, and the solutions to the characteristic polynomial?\n",
    "\n",
    "\n",
    "**$λ^2+λ+1=0$**\n",
    "\n",
    "**No real solutions.**"
   ]
  }
 ],
 "metadata": {
  "kernelspec": {
   "display_name": "Python 3",
   "language": "python",
   "name": "python3"
  },
  "language_info": {
   "codemirror_mode": {
    "name": "ipython",
    "version": 3
   },
   "file_extension": ".py",
   "mimetype": "text/x-python",
   "name": "python",
   "nbconvert_exporter": "python",
   "pygments_lexer": "ipython3",
   "version": "3.6.6"
  }
 },
 "nbformat": 4,
 "nbformat_minor": 2
}
