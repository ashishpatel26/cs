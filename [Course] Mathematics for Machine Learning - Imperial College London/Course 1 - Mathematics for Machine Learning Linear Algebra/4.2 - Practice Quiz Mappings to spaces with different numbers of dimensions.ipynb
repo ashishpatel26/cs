{
 "cells": [
  {
   "cell_type": "markdown",
   "metadata": {},
   "source": [
    "## Week 4 - Practice Quiz: Mappings to spaces with different numbers of dimensions"
   ]
  },
  {
   "cell_type": "markdown",
   "metadata": {},
   "source": [
    "<br/>**1.**\n",
    "Shadows are an example of a transformation that reduces the number of dimensions. For example, 3D objects in the world cast shadows on surfaces that are 2D.\n",
    "\n",
    "We can consider a simple example for looking at shadows using linear algebra.\n",
    "\n",
    "![picture alt](https://i.ibb.co/58mpznB/JV-Kj-Nld-Eeew6w5-E8nr-YDg-8304b0a141aa3fc405b898ca13f576a3-shadows.png)\n",
    "\n",
    "The sun is sufficiently far away that effectively all of its rays come in parallel to each other. We can describe their direction with the unit vector $\\hat{\\mathbf{s}}$.\n",
    "\n",
    "We can describe the 3D coordinates of points on objects in our space with the vector $\\mathbf{r}$. Objects will cast a shadow on the ground at the point $\\mathbf{r}'$ along the path that light would have taken if it hadn't been blocked at $\\mathbf{r}$, that is, $\\mathbf{r}' = \\mathbf{r} + \\lambda \\hat{\\mathbf{s}}$.\n",
    "\n",
    "The ground is at $\\mathbf{r}'_3 = 0$; by using $\\mathbf{r}'.\\hat{\\mathbf{e}}_3 = 0$, we can derive the expression, $\\mathbf{r}.\\hat{\\mathbf{e}}_3 + \\lambda s_3 = 0$, (where $s_3 = \\hat{\\mathbf{s}}.\\hat{\\mathbf{e}}_3$).\n",
    "\n",
    "Rearrange this expression for $\\lambda$ and substitute it back into the expression for $\\mathbf{r}'$ in order to get $\\mathbf{r}'$ in terms of $\\mathbf{r}$.\n",
    "\n",
    "**$\\mathbf{r}' = \\mathbf{r} - \\hat{\\mathbf{s}}(\\mathbf{r}.\\hat{\\mathbf{e}}_3) / s_3$**"
   ]
  },
  {
   "cell_type": "markdown",
   "metadata": {},
   "source": [
    "<br/>**2.**\n",
    "From your answer above, you should see that $\\mathbf{r}'$ can be written as a linear transformation of $\\mathbf{r}$. This means we should be able to write $\\mathbf{r}' = A \\mathbf{r}$ for some matrix $A$. \n",
    "\n",
    "To help us find an expression for $A$, we can re-write the expression above with Einstein summation convention.\n",
    "\n",
    "Which of the answers below correspond to the answer to Question 1? (Select all that apply)\n",
    "\n",
    "\n",
    "**$\\mathbf{r}'_i = \\mathbf{r}_i - \\mathbf{s}_i [\\hat{\\mathbf{e}}_3]_j\\mathbf{r}_j\\mathbf{s}_3 $**\n",
    "\n",
    "**$\\mathbf{r}'_i = \\mathbf{r}_i - \\mathbf{s}_i \\mathbf{r}_3 / \\mathbf{s}_3$**\n",
    "\n",
    "**$\\mathbf{r}'_i = (I_{ij} - \\mathbf{s}_i (I_{3j} / \\mathbf{s}_3) \\mathbf{r}_j $**\n",
    "\n",
    "**$\\mathbf{r}'_i = (I_{ij} - \\mathbf{s}_i [\\hat{\\mathbf{e}}_3]_j / \\mathbf{s}_3) \\mathbf{r}_j $**"
   ]
  },
  {
   "cell_type": "markdown",
   "metadata": {},
   "source": [
    "<br/>**3.**\n",
    "Based on your answer to the previous question, or otherwise, you should now be able to give an expression for $A$ in its component form by evaluating the components $A_{ij}$ for each row $i$ and column $j$.\n",
    "\n",
    "Since $A$ will take a 3D vector, $\\mathbf{r}$, and transform it into a 2D vector, $\\mathbf{r}'$, we only need to write the first two rows of $A$. That is, $A$ will be a 2×3 matrix. Remember, the columns of a matrix are the vectors in the new space that the unit vectors of the old space transform to - and in our new space, our vectors will be 2D.\n",
    "\n",
    "What is the value of $A$?\n",
    "\n",
    "$\\begin{bmatrix}\n",
    "1 & 0 & -s_1/s_3 \\\\\n",
    "0 & 1 & -s_2/s_3 \\\\\n",
    "\\end{bmatrix}$"
   ]
  },
  {
   "cell_type": "markdown",
   "metadata": {},
   "source": [
    "<br/>**4.**\n",
    "$A$ is a 2x3 matrix, but if you were to evaluate its third row, what would it's components be?"
   ]
  },
  {
   "cell_type": "code",
   "execution_count": null,
   "metadata": {},
   "outputs": [],
   "source": [
    "# Fill in the components of the 'third' row of A,\n",
    "A3 = [a, b, c]"
   ]
  },
  {
   "cell_type": "markdown",
   "metadata": {},
   "source": [
    "**A3 = [0, 0, 0]**"
   ]
  },
  {
   "cell_type": "markdown",
   "metadata": {},
   "source": [
    "<br/>**5.**\n",
    "Assume the Sun's rays come in at a direction \n",
    "$\\hat{\\mathbf{s}} = \\begin{bmatrix}\n",
    "4/13 \\\\\n",
    "-3/13 \\\\\n",
    "-12/13 \\\\\n",
    "\\end{bmatrix}$.\n",
    "\n",
    "\n",
    "Construct the matrix, $A$, and apply it to a point, $\\mathbf{r} = \n",
    "\\begin{bmatrix}\n",
    "6 \\\\\n",
    "2 \\\\\n",
    "3 \\\\\n",
    "\\end{bmatrix}$, on an object in our space to find the coordinates of that point's shadow.\n",
    "\n",
    "\n",
    "Give the coordinates of $\\mathbf{r}'$."
   ]
  },
  {
   "cell_type": "code",
   "execution_count": null,
   "metadata": {},
   "outputs": [],
   "source": [
    "# Give the coordinates for r'\n",
    "rp = [a, b]"
   ]
  },
  {
   "cell_type": "markdown",
   "metadata": {},
   "source": [
    "**rp = [7, 5/4]**"
   ]
  },
  {
   "cell_type": "markdown",
   "metadata": {},
   "source": [
    "<br/>**6.**\n",
    "Another use of non-square matrices is applying a matrix to a list of vectors.\n",
    "\n",
    "\n",
    "Given our transformation $\\mathbf{r}' = A\\mathbf{r}$, this can be generalized to a matrix equation, $R' = AR$, where $R'$ and $R$ are matrices where each column are corresponding $r' and $r$ vectors, i.e.,\n",
    "\n",
    "$\\begin{bmatrix}\n",
    "\\mathbf{r}_1' & \\mathbf{s}_1' & \\mathbf{t}_1' & \\mathbf{u}_1' & ... \\\\\n",
    "\\mathbf{r}_2' & \\mathbf{s}_2' & \\mathbf{t}_2' & \\mathbf{u}_2' & ... \\\\\n",
    "\\end{bmatrix} = \n",
    "A\n",
    "\\begin{bmatrix}\n",
    "\\mathbf{r}_1 & \\mathbf{s}_1 & \\mathbf{t}_1 & \\mathbf{u}_1 & ... \\\\\n",
    "\\mathbf{r}_2 & \\mathbf{s}_2 & \\mathbf{t}_2 & \\mathbf{u}_2 & ... \\\\\n",
    "\\mathbf{r}_3 & \\mathbf{s}_3 & \\mathbf{t}_3 & \\mathbf{u}_3 & ... \\\\\n",
    "\\end{bmatrix}$\n",
    "\n",
    "In Einstein notation, $r'_{i} = A_{ij}r_{j}$ becomes $R'_{ia} = A_{ij}R_{ja}$.\n",
    "\n",
    "For the same $\\hat{\\mathbf{s}}$ as in the previous question, apply $A$ to the matrix\n",
    "\n",
    "$\\mathbf{R} = \n",
    "\\begin{bmatrix}\n",
    "5 & -1 & -3 & 7 \\\\\n",
    "4 & -4 & 1 & -7 \\\\\n",
    "9 & 3 & 0 & 12 \\\\\n",
    "\\end{bmatrix}$\n",
    "\n",
    "Observe that it's the same result as treating the columns as separate vectors and calculating them individually."
   ]
  },
  {
   "cell_type": "code",
   "execution_count": null,
   "metadata": {},
   "outputs": [],
   "source": [
    "Rp = [[a,  b,  c,  d],\n",
    "      [e,  f,  g,  h]]"
   ]
  },
  {
   "cell_type": "markdown",
   "metadata": {},
   "source": [
    "**Rp = [[8,  0,  -3, 11],\n",
    "      [7/4,  -19/4,  1,  -5]]**"
   ]
  }
 ],
 "metadata": {
  "kernelspec": {
   "display_name": "Python 3",
   "language": "python",
   "name": "python3"
  },
  "language_info": {
   "codemirror_mode": {
    "name": "ipython",
    "version": 3
   },
   "file_extension": ".py",
   "mimetype": "text/x-python",
   "name": "python",
   "nbconvert_exporter": "python",
   "pygments_lexer": "ipython3",
   "version": "3.6.5"
  }
 },
 "nbformat": 4,
 "nbformat_minor": 2
}
