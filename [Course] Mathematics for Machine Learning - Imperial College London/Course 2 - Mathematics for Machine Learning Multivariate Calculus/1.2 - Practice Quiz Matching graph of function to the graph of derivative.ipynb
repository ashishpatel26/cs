{
 "cells": [
  {
   "cell_type": "markdown",
   "metadata": {},
   "source": [
    "## Week 1 - Practice Quiz: Matching the graph of a function to the graph of its derivative"
   ]
  },
  {
   "cell_type": "markdown",
   "metadata": {},
   "source": [
    "<br/>**1.**\n",
    "In this quiz you will practice estimating the derivative of a function by choosing the most suitable graphs.\n",
    "\n",
    "Estimate the gradient of the tangent to the function at the point $(4, 2)$ based on the image below.\n",
    "\n",
    "![picture alt](https://i.ibb.co/vBBjcjc/ijz4d-Agf-Eei-ZQ6-W1-G11d-A-232e49b62ce8c6d622e7387d516834bd-2100.png)\n",
    "\n",
    "**The gradient is 1.**"
   ]
  },
  {
   "cell_type": "markdown",
   "metadata": {},
   "source": [
    "<br/>**2.**\n",
    "Which diagram best describes the differential of the function in the following graph?\n",
    "\n",
    "![picture alt](https://i.ibb.co/BBBxHtM/ijz4d-Agf-Eei-ZQ6-W1-G11d-A-232e49b62ce8c6d622e7387d516834bd-2100.png)\n",
    "\n",
    "\n",
    "**![picture alt](https://i.ibb.co/R2M5br3/ijz4d-Agf-Eei-ZQ6-W1-G11d-A-232e49b62ce8c6d622e7387d516834bd-2100.png)**"
   ]
  },
  {
   "cell_type": "markdown",
   "metadata": {},
   "source": [
    "<br/>**3.**\n",
    "Which diagram best describes the differential of the function in the following diagram?\n",
    "\n",
    "![picture alt](https://i.ibb.co/6XHPBFP/ijz4d-Agf-Eei-ZQ6-W1-G11d-A-232e49b62ce8c6d622e7387d516834bd-2100.png)\n",
    "\n",
    "\n",
    "**![picture alt](https://i.ibb.co/R2M5br3/ijz4d-Agf-Eei-ZQ6-W1-G11d-A-232e49b62ce8c6d622e7387d516834bd-2100.png)**"
   ]
  },
  {
   "cell_type": "markdown",
   "metadata": {},
   "source": [
    "<br/>**4.**\n",
    "Which diagram(s) has a differential **described by** the following image? Choose all correct answers.\n",
    "\n",
    "![picture alt](https://i.ibb.co/BBBxHtM/ijz4d-Agf-Eei-ZQ6-W1-G11d-A-232e49b62ce8c6d622e7387d516834bd-2100.png)\n",
    "\n",
    "**![picture alt](https://i.ibb.co/r26rVBn/ijz4d-Agf-Eei-ZQ6-W1-G11d-A-232e49b62ce8c6d622e7387d516834bd-2100.png)**\n",
    "\n",
    "**![picture alt](https://i.ibb.co/NCV2cMC/ijz4d-Agf-Eei-ZQ6-W1-G11d-A-232e49b62ce8c6d622e7387d516834bd-2100.png)**"
   ]
  },
  {
   "cell_type": "markdown",
   "metadata": {},
   "source": [
    "<br/>**5.**\n",
    "What is the derivative at 00 for the function in the graph below?\n",
    "\n",
    "![picture alt](https://i.ibb.co/JvF9ksw/ijz4d-Agf-Eei-ZQ6-W1-G11d-A-232e49b62ce8c6d622e7387d516834bd-2100.png)\n",
    "\n",
    "**No derivative exists.**"
   ]
  }
 ],
 "metadata": {
  "kernelspec": {
   "display_name": "Python 3",
   "language": "python",
   "name": "python3"
  },
  "language_info": {
   "codemirror_mode": {
    "name": "ipython",
    "version": 3
   },
   "file_extension": ".py",
   "mimetype": "text/x-python",
   "name": "python",
   "nbconvert_exporter": "python",
   "pygments_lexer": "ipython3",
   "version": "3.6.6"
  }
 },
 "nbformat": 4,
 "nbformat_minor": 2
}
