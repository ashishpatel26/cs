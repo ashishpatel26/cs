{
 "cells": [
  {
   "cell_type": "markdown",
   "metadata": {},
   "source": [
    "## Week 1 - Quiz: Linear Regression with One Variable"
   ]
  },
  {
   "cell_type": "markdown",
   "metadata": {},
   "source": [
    "<br/>**1.**\n",
    "Consider the problem of predicting how well a student does in her second year of college/university, given how well she did in her first year.\n",
    "\n",
    "Specifically, let x be equal to the number of \"A\" grades (including A-. A and A+ grades) that a student receives in their first year of college (freshmen year). We would like to predict the value of y, which we define as the number of \"A\" grades they get in their second year (sophomore year).\n",
    "\n",
    "Refer to the following training set of a small sample of different students' performances (note that this training set may also be referenced in other questions in this quiz). Here each row is one training example. Recall that in linear regression, our hypothesis is h_\\theta(x) = \\theta_0 + \\theta_1xh \n",
    "θ\n",
    "​\t (x)=θ \n",
    "0\n",
    "​\t +θ \n",
    "1\n",
    "​\t x, and we use mm to denote the number of training examples.\n",
    "\n",
    "![picture alt](https://d396qusza40orc.cloudfront.net/flex-ml/quizIIq1v1.png)\n",
    "\n",
    "For the training set given above, what is the value of mm? In the box below, please enter your answer (which should be a number between 0 and 10).\n",
    "\n",
    " \n",
    " **4**"
   ]
  },
  {
   "cell_type": "markdown",
   "metadata": {},
   "source": [
    "<br/>**2.**\n",
    "Consider the following training set of m=4 training examples:\n",
    "\n",
    "x  | y\n",
    "------------- | -------------\n",
    "1 | 0.5\n",
    "2 | 1\n",
    "4 | 2\n",
    "0 | 0\n",
    "\n",
    "Consider the linear regression model h_\\theta(x) = \\theta_0 + \\theta_1xh \n",
    "θ\n",
    "​\t (x)=θ \n",
    "0\n",
    "​\t +θ \n",
    "1\n",
    "​\t x. What are the values of \\theta_0θ \n",
    "0\n",
    "​\t  and \\theta_1θ \n",
    "1\n",
    "​\t  that you would expect to obtain upon running gradient descent on this model? (Linear regression will be able to fit this data perfectly.)\n",
    "\n",
    "\n",
    "\n",
    "**θ \n",
    "0\n",
    "​\t = 0,θ \n",
    "1\n",
    "​\t = 0.5**"
   ]
  },
  {
   "cell_type": "markdown",
   "metadata": {},
   "source": [
    "<br/>**3.**\n",
    "Suppose we set \\theta_0 = -2, \\theta_1 = 0.5θ \n",
    "0\n",
    "​\t =−2,θ \n",
    "1\n",
    "​\t =0.5 in the linear regression hypothesis from Q1. What is h_{\\theta}(6)h \n",
    "θ\n",
    "​\t (6)?\n",
    "\n",
    "**1**"
   ]
  },
  {
   "cell_type": "markdown",
   "metadata": {},
   "source": [
    "<br/>**4.**\n",
    "In the given figure, the cost function J(\\theta_0,\\theta_1)J(θ \n",
    "0\n",
    "​\t ,θ \n",
    "1\n",
    "​\t ) has been plotted against \\theta_0θ \n",
    "0\n",
    "​\t  and \\theta_1θ \n",
    "1\n",
    "​\t , as shown in 'Plot 2'. The contour plot for the same cost function is given in 'Plot 1'. Based on the figure, choose the correct options (check all that apply).\n",
    "\n",
    "![picture alt](https://d396qusza40orc.cloudfront.net/ml/images/4.2-quiz-1.png)\n",
    "\n",
    "**If we start from point B, gradient descent with a well-chosen learning rate will eventually help us reach at or near point A, as the value of cost function J(\\theta_0,\\theta_1)J(θ \n",
    "0\n",
    "​\t ,θ \n",
    "1\n",
    "​\t ) is minimum at A.**\n",
    "\n",
    "**Point P (the global minimum of plot 2) corresponds to point A of Plot 1.**"
   ]
  },
  {
   "cell_type": "markdown",
   "metadata": {},
   "source": [
    "<br/>**5.**\n",
    "Suppose that for some linear regression problem (say, predicting housing prices as in the lecture), we have some training set, and for our training set we managed to find some \\theta_0θ \n",
    "0\n",
    "​\t , \\theta_1θ \n",
    "1\n",
    "​\t  such that J(\\theta_0, \\theta_1)=0J(θ \n",
    "0\n",
    "​\t ,θ \n",
    "1\n",
    "​\t )=0.\n",
    "\n",
    "Which of the statements below must then be true? (Check all that apply.)\n",
    "\n",
    "**Our training set can be fit perfectly by a straight line, i.e., all of our training examples lie perfectly on some straight line.**"
   ]
  }
 ],
 "metadata": {
  "kernelspec": {
   "display_name": "Python 3",
   "language": "python",
   "name": "python3"
  },
  "language_info": {
   "codemirror_mode": {
    "name": "ipython",
    "version": 3
   },
   "file_extension": ".py",
   "mimetype": "text/x-python",
   "name": "python",
   "nbconvert_exporter": "python",
   "pygments_lexer": "ipython3",
   "version": "3.6.5"
  }
 },
 "nbformat": 4,
 "nbformat_minor": 2
}
