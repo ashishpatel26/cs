{
 "cells": [
  {
   "cell_type": "markdown",
   "metadata": {},
   "source": [
    "## Week 1 - Quiz: From Problem to Approach"
   ]
  },
  {
   "cell_type": "markdown",
   "metadata": {},
   "source": [
    "<br/>**1.**\n",
    "Select the correct statement.\n",
    " \n",
    " **A methodology is a system of methods used in a particular area of study or activity.**"
   ]
  },
  {
   "cell_type": "markdown",
   "metadata": {},
   "source": [
    "<br/>**2.**\n",
    "Select the correct statement.\n",
    "\n",
    "**The first stage of the data science methodology is Business Understanding.**"
   ]
  },
  {
   "cell_type": "markdown",
   "metadata": {},
   "source": [
    "<br/>**3.**\n",
    "Business Understanding is an important stage in the data science methodology. Why?\n",
    "\n",
    "**Because it involves domain expertise.**\n",
    "\n",
    "**Because it clearly defines the problem and the needs from a business perspective.**\n",
    "\n",
    "**Because it ensures that the work generates the intended solution.**\n",
    "\n",
    "**Because it shapes the rest of the methodological steps.**"
   ]
  },
  {
   "cell_type": "markdown",
   "metadata": {},
   "source": [
    "<br/>**4.**\n",
    "Which of the following statements about the analytic approach are correct?\n",
    "\n",
    "**If the question defined in the business understanding deals with exploring relationships between different factors, then a descriptive approach, where clusters of similar activities based on events and preferences are examined, would be the right analytic method.**\n",
    "\n",
    "**If the question defined in the business understanding stage can be answered by determining probabilities of an action, then a predictive model would be the right analytic approach.**"
   ]
  },
  {
   "cell_type": "markdown",
   "metadata": {},
   "source": [
    "<br/>**5.**\n",
    "Which machine learning algorithm was implement in the case study discussed in the videos?\n",
    "\n",
    "**Decision Tree Classification.**"
   ]
  }
 ],
 "metadata": {
  "kernelspec": {
   "display_name": "Python 3",
   "language": "python",
   "name": "python3"
  },
  "language_info": {
   "codemirror_mode": {
    "name": "ipython",
    "version": 3
   },
   "file_extension": ".py",
   "mimetype": "text/x-python",
   "name": "python",
   "nbconvert_exporter": "python",
   "pygments_lexer": "ipython3",
   "version": "3.6.5"
  }
 },
 "nbformat": 4,
 "nbformat_minor": 2
}
